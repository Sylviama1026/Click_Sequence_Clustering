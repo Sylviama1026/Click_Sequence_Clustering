{
 "cells": [
  {
   "cell_type": "code",
   "execution_count": 12,
   "metadata": {},
   "outputs": [
    {
     "name": "stdout",
     "output_type": "stream",
     "text": [
      "[LOG]: total users 10019\n",
      "[LOG]: first matrixTime 4.543102\n",
      "[LOG]: finished calculating modularityBasics\n",
      "[LOG]: sweetSpot is 5394, modularity 0.001329\n",
      "/home/jovyan/recursiveHierarchicalClustering.py:248: FutureWarning: `rcond` parameter will change to the default of machine precision times ``max(M, N)`` where M and N are the input matrix dimensions.\n",
      "To use the future default and silence this warning we advise to pass `rcond=None`, to keep using the old, explicitly pass `rcond=-1`.\n",
      "  result = np.linalg.lstsq(A, y)\n",
      "[LOG]: finished calculating modularityBasics\n",
      "[LOG]: sweetSpot is 14, modularity 0.012516\n",
      "[LOG]: finished calculating modularityBasics\n",
      "[LOG]: sweetSpot is 2, modularity -0.000005\n",
      "[LOG]: finished calculating modularityBasics\n",
      "[LOG]: sweetSpot is 7, modularity 0.012039\n",
      "[LOG]: finished calculating modularityBasics\n",
      "[LOG]: sweetSpot is 6, modularity 0.007780\n",
      "[LOG]: finished calculating modularityBasics\n",
      "[LOG]: sweetSpot is 86, modularity 0.003851\n",
      "[STAT]: total clustering time 14370.252640\n",
      "[STAT]: total time 14370.495348\n",
      "[STAT]: maxtrix com: 4.844594, dismeter: 14169.187022, modularity: 5.059389, split: 8.406685, exclusion: 178.775381\n"
     ]
    }
   ],
   "source": [
    "!python recursiveHierarchicalClusteringFast.py myfile_click4.txt output/ 0.05"
   ]
  },
  {
   "cell_type": "code",
   "execution_count": 15,
   "metadata": {},
   "outputs": [
    {
     "data": {
      "text/plain": [
       "'/home/jovyan'"
      ]
     },
     "execution_count": 15,
     "metadata": {},
     "output_type": "execute_result"
    }
   ],
   "source": [
    "pwd"
   ]
  },
  {
   "cell_type": "code",
   "execution_count": 17,
   "metadata": {},
   "outputs": [],
   "source": [
    "!python visulization.py output/result.json  myfile_click8.txt vis/vis_click8.json"
   ]
  },
  {
   "cell_type": "code",
   "execution_count": 13,
   "metadata": {},
   "outputs": [
    {
     "name": "stdout",
     "output_type": "stream",
     "text": [
      "Serving HTTP on 0.0.0.0 port 8000 (http://0.0.0.0:8000/) ...\n",
      "^C\n",
      "\n",
      "Keyboard interrupt received, exiting.\n"
     ]
    }
   ],
   "source": [
    "##Run below in command terminal\n",
    "# cd desktop/RecursiveHierarchicalClustering/vis\n",
    "# python -m http.server 8000\n",
    "# http://localhost:8000/multi_color.html?json=vis_4g.json\n",
    "# python -m http.server 7800\n",
    "# http://localhost:7800/multi_color.html?json=vis_5g.json\n",
    "# python -m http.server 7600\n",
    "# http://localhost:7600/multi_color.html?json=vis_click3.json\n",
    "# python -m http.server 7400\n",
    "# http://localhost:7400/multi_color.html?json=vis_click5.json"
   ]
  }
 ],
 "metadata": {
  "kernelspec": {
   "display_name": "Python 3",
   "language": "python",
   "name": "python3"
  },
  "language_info": {
   "codemirror_mode": {
    "name": "ipython",
    "version": 3
   },
   "file_extension": ".py",
   "mimetype": "text/x-python",
   "name": "python",
   "nbconvert_exporter": "python",
   "pygments_lexer": "ipython3",
   "version": "3.7.3"
  }
 },
 "nbformat": 4,
 "nbformat_minor": 2
}
